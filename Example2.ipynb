{
 "cells": [
  {
   "cell_type": "markdown",
   "metadata": {},
   "source": [
    "# Example2 | PyTorch"
   ]
  },
  {
   "cell_type": "markdown",
   "metadata": {},
   "source": [
    "## 0. GPU Setting"
   ]
  },
  {
   "cell_type": "code",
   "execution_count": 99,
   "metadata": {},
   "outputs": [],
   "source": [
    "import os\n",
    "\n",
    "os.environ[\"CUDA_DEVICE_ORDER\"]=\"PCI_BUS_ID\"   \n",
    "os.environ[\"CUDA_VISIBLE_DEVICES\"]= \"0\""
   ]
  },
  {
   "cell_type": "code",
   "execution_count": 2,
   "metadata": {},
   "outputs": [],
   "source": [
    "# !kaggle competitions download -c quora-insincere-questions-classification\n",
    "# !unzip ./data/quora-insincere-questions-classification.zip\n",
    "# !pip install sentencepiece"
   ]
  },
  {
   "cell_type": "markdown",
   "metadata": {},
   "source": [
    "## 1. Data load"
   ]
  },
  {
   "cell_type": "code",
   "execution_count": 73,
   "metadata": {},
   "outputs": [],
   "source": [
    "import pandas as pd\n",
    "\n",
    "train = pd.read_csv('./data/train.csv')\n",
    "test = pd.read_csv('./data/test.csv')\n",
    "sample_submission = pd.read_csv('./data/sample_submission.csv')"
   ]
  },
  {
   "cell_type": "code",
   "execution_count": 132,
   "metadata": {},
   "outputs": [
    {
     "data": {
      "text/plain": [
       "375806"
      ]
     },
     "execution_count": 132,
     "metadata": {},
     "output_type": "execute_result"
    }
   ],
   "source": [
    "len(test)"
   ]
  },
  {
   "cell_type": "code",
   "execution_count": 75,
   "metadata": {},
   "outputs": [],
   "source": [
    "train = train.iloc[:30000]"
   ]
  },
  {
   "cell_type": "markdown",
   "metadata": {},
   "source": [
    "## 2. Preprocessing"
   ]
  },
  {
   "cell_type": "code",
   "execution_count": 6,
   "metadata": {},
   "outputs": [],
   "source": [
    "import re\n",
    "\n",
    "def alpha_num(text):\n",
    "    return re.sub(r'[^a-zA-z0-9\\s]', '', text)"
   ]
  },
  {
   "cell_type": "code",
   "execution_count": 18,
   "metadata": {},
   "outputs": [],
   "source": [
    "text_list = train['question_text'].str.lower().apply(alpha_num)\n",
    "test_text_list = test['question_text'].str.lower().apply(alpha_num)"
   ]
  },
  {
   "cell_type": "markdown",
   "metadata": {},
   "source": [
    "## 3. Train & validation split"
   ]
  },
  {
   "cell_type": "code",
   "execution_count": 21,
   "metadata": {},
   "outputs": [],
   "source": [
    "import numpy as np\n",
    "\n",
    "valid_percent = 0.2\n",
    "\n",
    "data_len = len(train)\n",
    "test_index = list(range(len(test)))\n",
    "\n",
    "valid_index = np.random.choice(range(data_len), int(data_len*valid_percent), replace=False)\n",
    "train_index = list(set(range(data_len)) - set(valid_index))\n",
    "\n",
    "train_text_list = [text_list[i] for i in train_index]\n",
    "valid_text_list = [text_list[i] for i in valid_index]\n",
    "test_text_list = [test_text_list[i] for i in test_index]\n",
    "\n",
    "train_label_list = [train['target'].tolist()[i] for i in train_index]\n",
    "valid_label_list = [train['target'].tolist()[i] for i in valid_index]"
   ]
  },
  {
   "cell_type": "markdown",
   "metadata": {},
   "source": [
    "## 4. Parsing"
   ]
  },
  {
   "cell_type": "code",
   "execution_count": 9,
   "metadata": {},
   "outputs": [],
   "source": [
    "import os\n",
    "\n",
    "save_path = './save'\n",
    "\n",
    "if not os.path.exists(save_path):\n",
    "    os.mkdir(save_path)"
   ]
  },
  {
   "cell_type": "code",
   "execution_count": 10,
   "metadata": {},
   "outputs": [],
   "source": [
    "import sentencepiece as spm\n",
    "\n",
    "vocab_size = 12000\n",
    "pad_idx = 0\n",
    "bos_idx = 1\n",
    "eos_idx = 2\n",
    "unk_idx = 3\n",
    "\n",
    "# 1) Make Korean text to train vocab\n",
    "with open(f'{save_path}/text.txt', 'w') as f:\n",
    "    for text in train_text_list:\n",
    "        f.write(f'{text}\\n')\n",
    "\n",
    "\n",
    "# 2) SentencePiece model training\n",
    "spm.SentencePieceProcessor()\n",
    "spm.SentencePieceTrainer.Train(\n",
    "    f'--input={save_path}/text.txt --model_prefix={save_path}/m_text '\n",
    "    f'--vocab_size={vocab_size} --character_coverage=0.9995 '\n",
    "    f'--model_type=bpe --split_by_whitespace=true '\n",
    "    f'--pad_id={pad_idx} --unk_id={unk_idx} '\n",
    "    f'--bos_id={bos_idx} --eos_id={eos_idx}'\n",
    ")\n",
    "\n",
    "vocab_list = list()\n",
    "with open(f'{save_path}/m_text.vocab') as f:\n",
    "    for line in f:\n",
    "        vocab_list.append(line[:-1].split('\\t')[0])\n",
    "word2id_spm = {w: i for i, w in enumerate(vocab_list)}"
   ]
  },
  {
   "cell_type": "code",
   "execution_count": 28,
   "metadata": {},
   "outputs": [],
   "source": [
    "# SentencePiece model load\n",
    "spm_ = spm.SentencePieceProcessor()\n",
    "spm_.Load(f\"{save_path}/m_text.model\")\n",
    "\n",
    "# Tokenizing\n",
    "train_encoded_list = [[bos_idx] + spm_.EncodeAsIds(text) + [eos_idx] for text in train_text_list]\n",
    "valid_encoded_list = [[bos_idx] + spm_.EncodeAsIds(text) + [eos_idx] for text in valid_text_list]"
   ]
  },
  {
   "cell_type": "markdown",
   "metadata": {},
   "source": [
    "## 5. Custom dataset"
   ]
  },
  {
   "cell_type": "code",
   "execution_count": 52,
   "metadata": {},
   "outputs": [],
   "source": [
    "import torch\n",
    "from torch.utils.data.dataset import Dataset\n",
    "\n",
    "class CustomDataset(Dataset):\n",
    "    def __init__(self, src_list, trg_list, min_len=4, max_len=500):\n",
    "        data = list()\n",
    "        for src, trg in zip(src_list, trg_list):\n",
    "            if min_len <= len(src) <= max_len:\n",
    "                data.append((src, trg))\n",
    "\n",
    "        self.data = data\n",
    "        self.num_data = len(self.data)\n",
    "    \n",
    "    def __getitem__(self, index):\n",
    "        src, trg = self.data[index]\n",
    "        return src, trg\n",
    "\n",
    "    def __len__(self):\n",
    "        return self.num_data\n",
    "\n",
    "class PadCollate:\n",
    "    def __init__(self, pad_index=0, dim=0):\n",
    "        self.dim = dim\n",
    "        self.pad_index = pad_index\n",
    "\n",
    "    def pad_collate(self, batch):\n",
    "        def pad_tensor(vec, max_len, dim):\n",
    "            pad_size = list(vec.shape)\n",
    "            pad_size[dim] = max_len - vec.size(dim)\n",
    "            return torch.cat([vec, torch.LongTensor(*pad_size).fill_(self.pad_index)], dim=dim)\n",
    "\n",
    "        def pack_sentence(sentences):\n",
    "            sentences_len = max(map(lambda x: len(x), sentences))\n",
    "            sentences = [pad_tensor(torch.LongTensor(seq), sentences_len, self.dim) for seq in sentences]\n",
    "            sentences = torch.cat(sentences)\n",
    "            sentences = sentences.view(-1, sentences_len)\n",
    "            return sentences\n",
    "\n",
    "        src, trg = zip(*batch)\n",
    "        return pack_sentence(src), torch.LongTensor(trg)\n",
    "\n",
    "    def __call__(self, batch):\n",
    "        return self.pad_collate(batch)"
   ]
  },
  {
   "cell_type": "markdown",
   "metadata": {},
   "source": [
    "## 6. DataLoader"
   ]
  },
  {
   "cell_type": "code",
   "execution_count": 60,
   "metadata": {},
   "outputs": [
    {
     "name": "stdout",
     "output_type": "stream",
     "text": [
      "Total number of trainingsets  iterations - 24000, 3000\n"
     ]
    }
   ],
   "source": [
    "from torch.utils.data import DataLoader\n",
    "\n",
    "batch_size = 8\n",
    "\n",
    "dataset_dict = {\n",
    "    'train': CustomDataset(train_encoded_list, train_label_list, min_len=4, max_len=500),\n",
    "    'valid': CustomDataset(valid_encoded_list, valid_label_list, min_len=4, max_len=500),\n",
    "}\n",
    "\n",
    "dataloader_dict = {\n",
    "    'train': DataLoader(dataset_dict['train'], collate_fn=PadCollate(), drop_last=True,\n",
    "                        batch_size=batch_size, num_workers=4, shuffle=True, pin_memory=True),\n",
    "    'valid': DataLoader(dataset_dict['valid'], collate_fn=PadCollate(), drop_last=True,\n",
    "                        batch_size=batch_size, num_workers=4, shuffle=True, pin_memory=True),\n",
    "}\n",
    "\n",
    "print(f'Total number of trainingsets  iterations - {len(dataset_dict[\"train\"])}, {len(dataloader_dict[\"train\"])}')"
   ]
  },
  {
   "cell_type": "markdown",
   "metadata": {},
   "source": [
    "## 7. Build model"
   ]
  },
  {
   "cell_type": "code",
   "execution_count": 14,
   "metadata": {},
   "outputs": [],
   "source": [
    "from torch import nn\n",
    "from torch.nn import functional as F\n",
    "\n",
    "class CustomModel(nn.Module):\n",
    "    def __init__(self, src_vocab_num, trg_num=2, pad_idx=0, bos_idx=1, eos_idx=2, \n",
    "                 max_len=500, d_model=512, d_embedding=256, dropout=0.1):\n",
    "\n",
    "        super(CustomModel, self).__init__()\n",
    "\n",
    "        self.src_embedding = nn.Embedding(src_vocab_num, d_embedding, padding_idx=pad_idx)\n",
    "        self.linear1 = nn.Linear(d_embedding, d_model)\n",
    "        self.linear2 = nn.Linear(d_model, trg_num)\n",
    "        self.dropout = nn.Dropout(dropout)\n",
    "\n",
    "    def forward(self, src):\n",
    "\n",
    "        embedding_out = self.src_embedding(src)\n",
    "        gap_out = embedding_out.mean(dim=1)\n",
    "        linear_out = self.dropout(F.gelu(self.linear1(gap_out)))\n",
    "        logit = self.linear2(linear_out)\n",
    "\n",
    "        return logit"
   ]
  },
  {
   "cell_type": "code",
   "execution_count": 58,
   "metadata": {},
   "outputs": [
    {
     "data": {
      "text/plain": [
       "CustomModel(\n",
       "  (src_embedding): Embedding(12000, 256, padding_idx=0)\n",
       "  (linear1): Linear(in_features=256, out_features=512, bias=True)\n",
       "  (linear2): Linear(in_features=512, out_features=2, bias=True)\n",
       "  (dropout): Dropout(p=0.1, inplace=False)\n",
       ")"
      ]
     },
     "execution_count": 58,
     "metadata": {},
     "output_type": "execute_result"
    }
   ],
   "source": [
    "device = torch.device(\"cuda\" if torch.cuda.is_available() else \"cpu\")\n",
    "\n",
    "model = CustomModel(vocab_size, trg_num=2, pad_idx=pad_idx, bos_idx=bos_idx, eos_idx=eos_idx,\n",
    "                    max_len=500, d_model=512, d_embedding=256, dropout=0.1)\n",
    "model.to(device)"
   ]
  },
  {
   "cell_type": "markdown",
   "metadata": {},
   "source": [
    "## 8. Optimizer setting"
   ]
  },
  {
   "cell_type": "code",
   "execution_count": 16,
   "metadata": {},
   "outputs": [],
   "source": [
    "import torch.optim as optim\n",
    "from torch.optim.lr_scheduler import ReduceLROnPlateau\n",
    "\n",
    "lr = 1e-2\n",
    "\n",
    "optimizer = optim.SGD(model.parameters(), lr=lr, momentum=0.9, weight_decay=1e-5)\n",
    "scheduler = ReduceLROnPlateau(optimizer, mode='min', factor=0.1, \n",
    "                              patience=len(dataloader_dict['train'])/1.5)\n",
    "criterion = nn.CrossEntropyLoss()"
   ]
  },
  {
   "cell_type": "markdown",
   "metadata": {},
   "source": [
    "## 9. Training"
   ]
  },
  {
   "cell_type": "code",
   "execution_count": 17,
   "metadata": {},
   "outputs": [
    {
     "name": "stdout",
     "output_type": "stream",
     "text": [
      "Model Fitting: [1/5]\n",
      "[Epoch:1][0/3000] train_loss:0.693 | Accuracy:0.625 | lr:0.010000 | spend_time: 0.03min\n",
      "[Epoch:1][1500/3000] train_loss:0.340 | Accuracy:0.875 | lr:0.010000 | spend_time: 0.13min\n",
      "[Epoch:1] val_loss:0.185 | Accuracy: 0.94 | spend_time: 0.28min\n",
      "[!] saving model...\n",
      "Model Fitting: [2/5]\n",
      "[Epoch:2][0/3000] train_loss:0.056 | Accuracy:1.000 | lr:0.010000 | spend_time: 0.01min\n",
      "[Epoch:2][1500/3000] train_loss:0.016 | Accuracy:1.000 | lr:0.010000 | spend_time: 0.12min\n",
      "[Epoch:2] val_loss:0.184 | Accuracy: 0.94 | spend_time: 0.27min\n",
      "[!] saving model...\n",
      "Model Fitting: [3/5]\n",
      "[Epoch:3][0/3000] train_loss:0.160 | Accuracy:1.000 | lr:0.010000 | spend_time: 0.01min\n",
      "[Epoch:3][1500/3000] train_loss:0.644 | Accuracy:0.750 | lr:0.001000 | spend_time: 0.11min\n",
      "[Epoch:3] val_loss:0.181 | Accuracy: 0.94 | spend_time: 0.27min\n",
      "[!] saving model...\n",
      "Model Fitting: [4/5]\n",
      "[Epoch:4][0/3000] train_loss:0.109 | Accuracy:1.000 | lr:0.000100 | spend_time: 0.01min\n",
      "[Epoch:4][1500/3000] train_loss:0.105 | Accuracy:1.000 | lr:0.000010 | spend_time: 0.11min\n",
      "[Epoch:4] val_loss:0.182 | Accuracy: 0.94 | spend_time: 0.27min\n",
      "Model Fitting: [5/5]\n",
      "[Epoch:5][0/3000] train_loss:0.026 | Accuracy:1.000 | lr:0.000010 | spend_time: 0.01min\n",
      "[Epoch:5][1500/3000] train_loss:0.018 | Accuracy:1.000 | lr:0.000001 | spend_time: 0.11min\n",
      "[Epoch:5] val_loss:0.181 | Accuracy: 0.94 | spend_time: 0.27min\n",
      "[!] saving model...\n"
     ]
    }
   ],
   "source": [
    "import time\n",
    "from torch.nn.utils import clip_grad_norm_\n",
    "\n",
    "num_epoch = 5\n",
    "\n",
    "print_freq = 1500\n",
    "best_val_loss = None\n",
    "\n",
    "for e in range(num_epoch):\n",
    "    start_time_e = time.time()\n",
    "    print(f'Model Fitting: [{e+1}/{num_epoch}]')\n",
    "    for phase in ['train', 'valid']:\n",
    "        if phase == 'train':\n",
    "            model.train()\n",
    "            freq = 0\n",
    "        elif phase == 'valid':\n",
    "            model.eval()\n",
    "            val_loss = 0\n",
    "            val_acc = 0\n",
    "\n",
    "        for i, (src, trg) in enumerate(dataloader_dict[phase]):\n",
    "            # Optimizer setting\n",
    "            optimizer.zero_grad()\n",
    "\n",
    "            # Source, Target sentence setting\n",
    "            src = src.to(device)\n",
    "            trg = trg.to(device)\n",
    "\n",
    "            # Model / Calculate loss\n",
    "            with torch.set_grad_enabled(phase == 'train'):\n",
    "                predicted_logit = model(src)\n",
    "                # If phase train, then backward loss and step optimizer and scheduler\n",
    "                if phase == 'train':\n",
    "                    loss = criterion(predicted_logit, trg)\n",
    "                    loss.backward()\n",
    "                    clip_grad_norm_(model.parameters(), 5)\n",
    "                    optimizer.step()\n",
    "                    scheduler.step(loss)\n",
    "                    # Print loss value only training\n",
    "                    if freq == print_freq or freq == 0 or i == len(dataloader_dict['train']):\n",
    "                        total_loss = loss.item()\n",
    "                        _, predicted = predicted_logit.max(dim=1)\n",
    "                        accuracy = sum(predicted == trg).item() / predicted.size(0)\n",
    "                        print(\"[Epoch:%d][%d/%d] train_loss:%5.3f | Accuracy:%2.3f | lr:%1.6f | spend_time:%5.2fmin\"\n",
    "                                % (e+1, i, len(dataloader_dict['train']), total_loss, accuracy, \n",
    "                                optimizer.param_groups[0]['lr'], (time.time() - start_time_e) / 60))\n",
    "                        freq = 0\n",
    "                    freq += 1\n",
    "                if phase == 'valid':\n",
    "                    loss = F.cross_entropy(predicted_logit, trg)\n",
    "                    val_loss += loss.item()\n",
    "                    _, predicted = predicted_logit.max(dim=1)\n",
    "                    val_acc += sum(predicted == trg).item() / predicted.size(0)\n",
    "        # Finishing iteration\n",
    "        if phase == 'valid':\n",
    "            val_loss /= len(dataloader_dict['valid'])\n",
    "            val_acc /= len(dataloader_dict['valid'])\n",
    "            print(\"[Epoch:%d] val_loss:%5.3f | Accuracy:%5.2f | spend_time:%5.2fmin\"\n",
    "                    % (e+1, val_loss, val_acc, (time.time() - start_time_e) / 60))\n",
    "            if not best_val_loss or val_loss < best_val_loss:\n",
    "                print(\"[!] saving model...\")\n",
    "                torch.save(model.state_dict(), \n",
    "                            os.path.join(save_path, f'model_saved.pt'))\n",
    "                best_val_loss = val_loss"
   ]
  },
  {
   "cell_type": "markdown",
   "metadata": {},
   "source": [
    "## 10. Submission"
   ]
  },
  {
   "cell_type": "code",
   "execution_count": 77,
   "metadata": {},
   "outputs": [
    {
     "name": "stdout",
     "output_type": "stream",
     "text": [
      "CPU times: user 17.1 s, sys: 0 ns, total: 17.1 s\n",
      "Wall time: 18.6 s\n"
     ]
    }
   ],
   "source": [
    "%%time\n",
    "\n",
    "spm_ = spm.SentencePieceProcessor()\n",
    "spm_.Load(f\"{save_path}/m_text.model\")\n",
    "\n",
    "# Tokenizing\n",
    "test_encoded_list = [[bos_idx] + spm_.EncodeAsIds(text) + [eos_idx] for text in test_text_list]"
   ]
  },
  {
   "cell_type": "code",
   "execution_count": 153,
   "metadata": {},
   "outputs": [],
   "source": [
    "class CustomtestDataset(Dataset):\n",
    "    def __init__(self, data):\n",
    "        self.data = data\n",
    "        self.num_data = len(self.data)\n",
    "    \n",
    "    def __getitem__(self, index):\n",
    "        src = self.data[index]\n",
    "        return src\n",
    "\n",
    "    def __len__(self):\n",
    "        return self.num_data\n",
    "    \n",
    "class test_PadCollate:\n",
    "    def __init__(self, pad_index=0, dim=0):\n",
    "        self.dim = dim\n",
    "        self.pad_index = pad_index\n",
    "\n",
    "    def pad_collate(self, batch):\n",
    "        def pad_tensor(vec, max_len, dim):\n",
    "            pad_size = list(vec.shape)\n",
    "            pad_size[dim] = max_len - vec.size(dim)\n",
    "            return torch.cat([vec, torch.LongTensor(*pad_size).fill_(self.pad_index)], dim=dim)\n",
    "\n",
    "        def pack_sentence(sentences):\n",
    "            sentences_len = max(map(lambda x: len(x), sentences))\n",
    "            sentences = [pad_tensor(torch.LongTensor(seq), sentences_len, self.dim) for seq in sentences]\n",
    "            sentences = torch.cat(sentences)\n",
    "            sentences = sentences.view(-1, sentences_len)\n",
    "            return sentences\n",
    "\n",
    "        src = batch\n",
    "        return pack_sentence(src)\n",
    "\n",
    "    def __call__(self, batch):\n",
    "        return self.pad_collate(batch)"
   ]
  },
  {
   "cell_type": "code",
   "execution_count": 184,
   "metadata": {},
   "outputs": [],
   "source": [
    "dataset_test_dict = {\n",
    "    'test' : CustomtestDataset(test_encoded_list)\n",
    "}\n",
    "\n",
    "dataloader_test_dict = {\n",
    "    'test' : DataLoader(dataset_test_dict['test'], collate_fn=test_PadCollate(), drop_last=False,\n",
    "                       batch_size = 1024, num_workers=4, shuffle=False)\n",
    "}"
   ]
  },
  {
   "cell_type": "code",
   "execution_count": 185,
   "metadata": {},
   "outputs": [
    {
     "data": {
      "text/plain": [
       "367"
      ]
     },
     "execution_count": 185,
     "metadata": {},
     "output_type": "execute_result"
    }
   ],
   "source": [
    "# drop\n",
    "\n",
    "len(dataloader_test_dict['test'])"
   ]
  },
  {
   "cell_type": "code",
   "execution_count": 254,
   "metadata": {},
   "outputs": [],
   "source": [
    "from tqdm import tqdm\n",
    "\n",
    "eval_list = []\n",
    "model.eval()\n",
    "for src in dataloader_test_dict['test']:\n",
    "    src = src.to(device)\n",
    "    predicted_logit = model(src)\n",
    "    _, prediction = predicted_logit.max(dim=1)\n",
    "    eval_list.append(prediction.tolist())\n",
    "    "
   ]
  },
  {
   "cell_type": "code",
   "execution_count": 264,
   "metadata": {},
   "outputs": [],
   "source": [
    "flatten_list = sum(eval_list, [])"
   ]
  },
  {
   "cell_type": "code",
   "execution_count": 267,
   "metadata": {
    "scrolled": true
   },
   "outputs": [],
   "source": [
    "sample_submission['prediction'] = flatten_list"
   ]
  },
  {
   "cell_type": "code",
   "execution_count": 269,
   "metadata": {},
   "outputs": [],
   "source": [
    "sample_submission.to_csv(\"submission.csv\")"
   ]
  },
  {
   "cell_type": "code",
   "execution_count": 271,
   "metadata": {},
   "outputs": [
    {
     "name": "stdout",
     "output_type": "stream",
     "text": [
      "Warning: Your Kaggle API key is readable by other users on this system! To fix this, you can run 'chmod 600 /home/ubuntu/.kaggle/kaggle.json'\n",
      "ref                                            deadline             category            reward  teamCount  userHasEntered  \n",
      "---------------------------------------------  -------------------  ---------------  ---------  ---------  --------------  \n",
      "contradictory-my-dear-watson                   2030-07-01 23:59:00  Getting Started     Prizes         97           False  \n",
      "gan-getting-started                            2030-07-01 23:59:00  Getting Started     Prizes        202           False  \n",
      "tpu-getting-started                            2030-06-03 23:59:00  Getting Started  Knowledge        371           False  \n",
      "digit-recognizer                               2030-01-01 00:00:00  Getting Started  Knowledge       2565           False  \n",
      "titanic                                        2030-01-01 00:00:00  Getting Started  Knowledge      19936           False  \n",
      "house-prices-advanced-regression-techniques    2030-01-01 00:00:00  Getting Started  Knowledge       5258           False  \n",
      "connectx                                       2030-01-01 00:00:00  Getting Started  Knowledge        477           False  \n",
      "nlp-getting-started                            2030-01-01 00:00:00  Getting Started  Knowledge       1382           False  \n",
      "competitive-data-science-predict-future-sales  2022-12-31 23:59:00  Playground           Kudos      10085           False  \n",
      "vinbigdata-chest-xray-abnormalities-detection  2021-03-30 23:59:00  Featured           $50,000        199           False  \n",
      "hubmap-kidney-segmentation                     2021-03-25 23:59:00  Research           $60,000        821           False  \n",
      "ranzcr-clip-catheter-line-classification       2021-03-15 23:59:00  Featured           $50,000        461           False  \n",
      "jane-street-market-prediction                  2021-02-22 23:59:00  Featured          $100,000       2193           False  \n",
      "cassava-leaf-disease-classification            2021-02-18 23:59:00  Research           $18,000       2481           False  \n",
      "rfcx-species-audio-detection                   2021-02-17 23:59:00  Research           $15,000        757           False  \n",
      "acea-water-prediction                          2021-02-17 23:59:00  Analytics          $25,000          0           False  \n",
      "rock-paper-scissors                            2021-02-01 23:59:00  Playground          Prizes       1423           False  \n",
      "santa-2020                                     2021-02-01 23:59:00  Featured            Prizes        673           False  \n",
      "tabular-playground-series-jan-2021             2021-01-31 23:59:00  Playground            Swag        669           False  \n",
      "nfl-big-data-bowl-2021                         2021-01-07 23:59:00  Analytics         $100,000          0           False  \n"
     ]
    }
   ],
   "source": [
    "!kaggle competitions list"
   ]
  },
  {
   "cell_type": "code",
   "execution_count": null,
   "metadata": {},
   "outputs": [],
   "source": []
  }
 ],
 "metadata": {
  "celltoolbar": "Raw Cell Format",
  "kernelspec": {
   "display_name": "Python 3",
   "language": "python",
   "name": "python3"
  },
  "language_info": {
   "codemirror_mode": {
    "name": "ipython",
    "version": 3
   },
   "file_extension": ".py",
   "mimetype": "text/x-python",
   "name": "python",
   "nbconvert_exporter": "python",
   "pygments_lexer": "ipython3",
   "version": "3.6.10"
  }
 },
 "nbformat": 4,
 "nbformat_minor": 2
}
